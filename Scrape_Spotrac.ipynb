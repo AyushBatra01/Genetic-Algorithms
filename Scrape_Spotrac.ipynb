{
 "cells": [
  {
   "cell_type": "code",
   "execution_count": 1,
   "id": "c79978a9-eca9-4498-b216-108adc88814d",
   "metadata": {},
   "outputs": [],
   "source": [
    "import pandas as pd\n",
    "import numpy as np\n",
    "import requests\n",
    "from bs4 import BeautifulSoup, Comment\n",
    "import time\n",
    "from tqdm import tqdm\n",
    "import re"
   ]
  },
  {
   "cell_type": "markdown",
   "id": "c54c63ec-e237-4078-857d-eab2e3e84685",
   "metadata": {},
   "source": [
    "# Functions"
   ]
  },
  {
   "cell_type": "code",
   "execution_count": 2,
   "id": "ba865ffc-8ac8-4e60-bc48-a1a0150eadca",
   "metadata": {},
   "outputs": [],
   "source": [
    "def getSoupFromURL(url, sleep = 3):\n",
    "    time.sleep(sleep)\n",
    "    headers = {\"User-Agent\": \"Mozilla/5.0 (X11; Ubuntu; Linux x86_64; rv:109.0) Gecko/20100101 Firefox/117.0\"}\n",
    "    response = requests.get(url, headers = headers)\n",
    "    soup = BeautifulSoup(response.content, 'html.parser')\n",
    "    return soup\n",
    "\n",
    "def hClean(text):\n",
    "    text = re.sub(r'\\n', \"\", text)\n",
    "    text = re.sub(r\"\\s*\\([^)]*\\)\", \"\", text)\n",
    "    text = re.sub(r\"\\$.*\", \"\", text)\n",
    "    if text == \"\": text = \"Placeholder\"\n",
    "    return text\n",
    "\n",
    "def cleanHeader(header):\n",
    "    cleaned = [hClean(h) for h in header]\n",
    "    return cleaned\n",
    "\n",
    "def cleanSalary(salary):\n",
    "    if salary == '': return None\n",
    "    salary = salary.replace('$', '').replace(',', '')\n",
    "    salary = int(salary) / 1000000\n",
    "    return salary\n",
    "\n",
    "def cleanTable(data):\n",
    "    for col in data.columns:\n",
    "        if data[col].str.contains('\\$').sum() > 0:\n",
    "            data[col] = data[col].apply(cleanSalary)\n",
    "    num_cols = ['Yr', 'Age', 'YOE']\n",
    "    for col in num_cols:\n",
    "        if col not in data.columns: continue\n",
    "        data[col] = data[col].replace('', '0')\n",
    "        data[col] = data[col].astype(np.float32)\n",
    "    return data\n",
    "\n",
    "def getTable(table):\n",
    "    header = [h.text for h in table.find('thead').find_all('th')]\n",
    "    header = cleanHeader(header)\n",
    "    data = {h : [] for h in header}\n",
    "    for row in table.find('tbody').find_all('tr'):\n",
    "        for i, d in enumerate(row.find_all('td')):\n",
    "            data[header[i]].append(d.text.strip())\n",
    "    return pd.DataFrame(data)\n",
    "\n",
    "def scrapeTables(url):\n",
    "    s = getSoupFromURL(url)\n",
    "    tables = []\n",
    "    for t in s.find_all('table'):\n",
    "        tbl = getTable(t)\n",
    "        tbl = cleanTable(tbl)\n",
    "        tables.append(tbl)\n",
    "    return tables"
   ]
  },
  {
   "cell_type": "code",
   "execution_count": 3,
   "id": "a9947e55-00b9-4823-8f64-32c90004c753",
   "metadata": {},
   "outputs": [],
   "source": [
    "url = \"https://www.spotrac.com/nba/free-agents/_/year/2025\"\n",
    "tables = scrapeTables(url)"
   ]
  },
  {
   "cell_type": "code",
   "execution_count": 4,
   "id": "4e7eae6d-4bea-4313-8129-9d5163802d53",
   "metadata": {},
   "outputs": [],
   "source": [
    "fa_table = tables[0]\n",
    "unsigned_table = tables[1]"
   ]
  },
  {
   "cell_type": "code",
   "execution_count": 5,
   "id": "4ab6c434-202d-4f79-930d-ee662d0b19c6",
   "metadata": {},
   "outputs": [],
   "source": [
    "fa_table.to_csv('data/free_agents25.csv', index = False)\n",
    "unsigned_table.to_csv('data/unsigned25.csv', index = False)"
   ]
  }
 ],
 "metadata": {
  "kernelspec": {
   "display_name": "Python 3 (ipykernel)",
   "language": "python",
   "name": "python3"
  },
  "language_info": {
   "codemirror_mode": {
    "name": "ipython",
    "version": 3
   },
   "file_extension": ".py",
   "mimetype": "text/x-python",
   "name": "python",
   "nbconvert_exporter": "python",
   "pygments_lexer": "ipython3",
   "version": "3.11.5"
  }
 },
 "nbformat": 4,
 "nbformat_minor": 5
}
